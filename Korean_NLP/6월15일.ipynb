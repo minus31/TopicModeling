{
 "cells": [
  {
   "cell_type": "code",
   "execution_count": null,
   "metadata": {},
   "outputs": [],
   "source": [
    "# 함수 ; fucntion \n",
    "def add(a, b):\n",
    "    return a + b\n",
    "\n",
    "def add2(a,b):\n",
    "    return add(a, b)\n",
    "\n",
    "def eat()\n",
    "def sleep()\n",
    "def walk()\n",
    ".....\n",
    ".....\n",
    ".....\n",
    "\n",
    "\n"
   ]
  },
  {
   "cell_type": "code",
   "execution_count": null,
   "metadata": {},
   "outputs": [],
   "source": [
    "eat()\n",
    "sleep()"
   ]
  },
  {
   "cell_type": "code",
   "execution_count": 25,
   "metadata": {},
   "outputs": [],
   "source": [
    "# 객체(Object) 지향적인 프로그래밍을 한다. \n",
    "# 물건, 물체 \n",
    "\n",
    "# person : eat, sleep, walk\n",
    "\n",
    "class Person():\n",
    "    \n",
    "    def eat(self):\n",
    "        return \"아 배부르다.\"\n",
    "    \n",
    "    def sleep(self):\n",
    "        return \"sleep well\"\n",
    "    \n",
    "    def walk(self):\n",
    "        return \"walk\"\n",
    "    "
   ]
  },
  {
   "cell_type": "code",
   "execution_count": 26,
   "metadata": {},
   "outputs": [],
   "source": [
    "person = Person()"
   ]
  },
  {
   "cell_type": "code",
   "execution_count": 17,
   "metadata": {},
   "outputs": [
    {
     "data": {
      "text/plain": [
       "<__main__.Person at 0x1c1b46fd30>"
      ]
     },
     "execution_count": 17,
     "metadata": {},
     "output_type": "execute_result"
    }
   ],
   "source": [
    "person"
   ]
  },
  {
   "cell_type": "code",
   "execution_count": 18,
   "metadata": {},
   "outputs": [
    {
     "data": {
      "text/plain": [
       "'아 배부르다.'"
      ]
     },
     "execution_count": 18,
     "metadata": {},
     "output_type": "execute_result"
    }
   ],
   "source": [
    "person.eat()"
   ]
  },
  {
   "cell_type": "code",
   "execution_count": 19,
   "metadata": {},
   "outputs": [
    {
     "data": {
      "text/plain": [
       "'sleep well'"
      ]
     },
     "execution_count": 19,
     "metadata": {},
     "output_type": "execute_result"
    }
   ],
   "source": [
    "person.sleep()"
   ]
  },
  {
   "cell_type": "code",
   "execution_count": 20,
   "metadata": {},
   "outputs": [
    {
     "data": {
      "text/plain": [
       "'walk'"
      ]
     },
     "execution_count": 20,
     "metadata": {},
     "output_type": "execute_result"
    }
   ],
   "source": [
    "person.walk()"
   ]
  },
  {
   "cell_type": "code",
   "execution_count": 27,
   "metadata": {},
   "outputs": [
    {
     "ename": "TypeError",
     "evalue": "object() takes no parameters",
     "output_type": "error",
     "traceback": [
      "\u001b[0;31m---------------------------------------------------------------------------\u001b[0m",
      "\u001b[0;31mTypeError\u001b[0m                                 Traceback (most recent call last)",
      "\u001b[0;32m<ipython-input-27-f1188a4d3775>\u001b[0m in \u001b[0;36m<module>\u001b[0;34m\u001b[0m\n\u001b[0;32m----> 1\u001b[0;31m \u001b[0;32mclass\u001b[0m \u001b[0mKimhyunkyu\u001b[0m\u001b[0;34m(\u001b[0m\u001b[0mPerson\u001b[0m\u001b[0;34m(\u001b[0m\u001b[0;34m)\u001b[0m\u001b[0;34m)\u001b[0m\u001b[0;34m:\u001b[0m\u001b[0;34m\u001b[0m\u001b[0;34m\u001b[0m\u001b[0m\n\u001b[0m\u001b[1;32m      2\u001b[0m \u001b[0;34m\u001b[0m\u001b[0m\n\u001b[1;32m      3\u001b[0m     \u001b[0;32mdef\u001b[0m \u001b[0m__init__\u001b[0m\u001b[0;34m(\u001b[0m\u001b[0mself\u001b[0m\u001b[0;34m)\u001b[0m\u001b[0;34m:\u001b[0m\u001b[0;34m\u001b[0m\u001b[0;34m\u001b[0m\u001b[0m\n\u001b[1;32m      4\u001b[0m         \u001b[0msuper\u001b[0m\u001b[0;34m(\u001b[0m\u001b[0mself\u001b[0m\u001b[0;34m.\u001b[0m\u001b[0mKimhyunkyu\u001b[0m\u001b[0;34m)\u001b[0m\u001b[0;34m\u001b[0m\u001b[0;34m\u001b[0m\u001b[0m\n",
      "\u001b[0;31mTypeError\u001b[0m: object() takes no parameters"
     ]
    }
   ],
   "source": [
    "class Kimhyunkyu(Person()):\n",
    "    \n",
    "    def __init__(self):\n",
    "        super(Kimhyunkyu)\n",
    "\n",
    "    def play():\n",
    "        \n",
    "    def play"
   ]
  },
  {
   "cell_type": "code",
   "execution_count": 28,
   "metadata": {},
   "outputs": [
    {
     "data": {
      "text/plain": [
       "44032"
      ]
     },
     "execution_count": 28,
     "metadata": {},
     "output_type": "execute_result"
    }
   ],
   "source": [
    "ord(\"가\")"
   ]
  },
  {
   "cell_type": "markdown",
   "metadata": {},
   "source": [
    "### 주사위\n",
    "\n",
    "나올 수 있는 것 -> {1, 2, 3, 4 ,5, 6} = (Sample space) = $\\Omega$"
   ]
  },
  {
   "cell_type": "markdown",
   "metadata": {},
   "source": [
    "주사위 : {?} = 어 떤 숫자를 할당한다. \n",
    "\n",
    "1. 1 이 나올 확률은? 1/6\n",
    "\n",
    "2. 2 또는 3이 나올 확률은 ? 2/6\n",
    "\n",
    "...\n",
    "\n",
    "그 때, 이 숫자들이 다음 조건들을 만족하면 이를 확률이다. (이 조건을 콜모고르프의 공리)\n",
    "\n",
    "1. ? 이 나올 확률이 0 < ? yes, 실수 인가? yes \n",
    "2. P($\\Omega$) = 1 = 1/6 * 6\n",
    "3. P(1, 2), P(3, 4) > P(1, 2) + P(3, 4) = P(1 ,2, 3, 4) = 4/6\n",
    "\n",
    "\n",
    "\n",
    "### 왜 우리는 각 면의 확률이 $\\dfrac{1}{6}$ 이라고 하는가? \n",
    "\n",
    "1. 우리가 직접 해보지는 않았지만, 아마 공장에서 불량을 검사, 12000**실험** -- 2002(2002/12000), 2000(2000/12000), 1998, 2000, 2000, 2000  -> 불량이 아니야! 그래서 우리가 구매를 한거에요. 그렇기 때문에는 우리는 실험적으로 각 면이 나올 확률은 1/6 라고 할 만 하다. \n",
    "$\\rightarrow$ 빈도주의\n",
    "\n",
    "\n",
    "2. **사전지식**이 아무것도 없다. 그렇기에 각면의 확률을 추정할 아무런 근거가 없다. 따라서 모든 면의 확률이 동일하다고 생각한다. 따라서 각면이 나올 확률은 1/6이다. \n",
    "$\\rightarrow$ 베이지안확률\n"
   ]
  },
  {
   "cell_type": "markdown",
   "metadata": {},
   "source": [
    "동전의 각 면들에 숫자들을 붙였다. (콜모고르프의 공리를 충족) - 확률을 할당했다. \n",
    "\n",
    "\n",
    "확률변수 = {앞:1/2, 뒷:1/2}\n",
    "\n",
    "확률분포는 이 확률변수를 설명하는 것\n",
    "\n",
    "확률분포는 확률변수 p(x) = Bern($\\theta = \\dfrac{1}{2}$)\n",
    "\n",
    "\n",
    "p(앞)? = 1/2 \n",
    "\n",
    "p(뒷)? = 1/2"
   ]
  },
  {
   "cell_type": "markdown",
   "metadata": {},
   "source": [
    "##### 사건 A : 남자가 범인 이다. \n",
    "\n",
    "$P(A) = 12/20 $ \n",
    "\n",
    "$P($A^c$) = 8/20$"
   ]
  },
  {
   "cell_type": "markdown",
   "metadata": {},
   "source": [
    "\n",
    "#### 사건 B : 범인의 머리카락이 길다.(머리길이 30cm)이상 \n",
    "\n",
    "남자 중에 머리 긴 사람 = 4\n",
    "\n",
    "여자 중에 머리 긴 사람 = 7\n",
    "\n",
    "\n",
    "P(B) = 11/20\n",
    "\n",
    "P(B^C) = 9/20\n"
   ]
  },
  {
   "cell_type": "markdown",
   "metadata": {},
   "source": [
    "일단 범인이 남자임은 확실해요! 20 -> 12\n",
    "\n",
    "이 때!, 범인이 머리 긴 사람 = 4 , \n",
    "\n",
    "\n",
    "#### 조건부 확률\n",
    "\n",
    "$\\large P(B|A) = 4/12$\n",
    "\n",
    "$\\large P(B|A^c) = 7/8$\n",
    "\n",
    "$\\large P(B^c|A) = 8/12$"
   ]
  },
  {
   "cell_type": "markdown",
   "metadata": {},
   "source": [
    "#### 결합 확률\n",
    "\n",
    "자 범인이 여자이면서, 머리가 길 확률 얼만가요? \n",
    "\n",
    "$\\large P(A^c,B) = 7/20$\n",
    "\n",
    "$\\large P(A,B) = 4/20$\n",
    "\n",
    "$\\large P(A,B^c) = 8/20$\n",
    "\n",
    "   남자 여자  \n",
    "긴  6   4\n",
    "짧  6   4\n",
    "   12  8\n",
    "   \n",
    "위와 같은 상황에는? \n",
    "\n",
    "$\\large P(A^c,B) = 4/20$\n",
    "\n",
    "$\\large P(A,B) = 6/20$\n",
    "\n",
    "$\\large P(A,B^c) = 6/20$\n"
   ]
  },
  {
   "cell_type": "code",
   "execution_count": null,
   "metadata": {},
   "outputs": [],
   "source": [
    "P(B|A) * P(A) = P(A,B) = P(B,A) = P(B|A)P(A)"
   ]
  },
  {
   "cell_type": "code",
   "execution_count": 31,
   "metadata": {},
   "outputs": [
    {
     "data": {
      "text/plain": [
       "0.19999999999999998"
      ]
     },
     "execution_count": 31,
     "metadata": {},
     "output_type": "execute_result"
    }
   ],
   "source": [
    "(4/12) * (12/20) #= 4/20"
   ]
  },
  {
   "cell_type": "code",
   "execution_count": null,
   "metadata": {},
   "outputs": [],
   "source": [
    "P(A) * P(B) = P(A,B) \n",
    "\n",
    "# 반복적으로 동전을 던진다. "
   ]
  },
  {
   "cell_type": "code",
   "execution_count": null,
   "metadata": {},
   "outputs": [],
   "source": [
    "# 기존의 상황 P(A) * P(B) 같지 않다. P(A, B)\n",
    "(12/20) * (11/20) # = 1/3"
   ]
  },
  {
   "cell_type": "code",
   "execution_count": null,
   "metadata": {},
   "outputs": [],
   "source": [
    "# 새롭게 만든 P(A) * P(B) 같다. P(A,B)\n",
    "(12/20) * (10/20) # = 6/20"
   ]
  },
  {
   "cell_type": "markdown",
   "metadata": {},
   "source": [
    "\n",
    "P(A) = Sample space에서 특정 사건 A, 부분집합 A에 할당된 확률 \n",
    "\n",
    "P(A|B) = B라는 사건이 발생했을 때(B가 Sample space) 특정 사건 부분집합 A에 할당된 확률 \n",
    "\n",
    "P(A,B) = Sample space에서 특정 사건 A, B 동시에 일어나는 사건에 할당된 확률"
   ]
  },
  {
   "cell_type": "markdown",
   "metadata": {},
   "source": [
    "$\\displaystyle\\sum_{i=1}^{N} x_i = x_1 + x_2 + ,....$\n",
    "\n",
    "$\\displaystyle\\prod_{i=1}^{N} x_i = x_1 \\times x_2 \\times ,....$"
   ]
  },
  {
   "cell_type": "code",
   "execution_count": null,
   "metadata": {},
   "outputs": [],
   "source": []
  }
 ],
 "metadata": {
  "kernelspec": {
   "display_name": "Python 3",
   "language": "python",
   "name": "python3"
  },
  "language_info": {
   "codemirror_mode": {
    "name": "ipython",
    "version": 3
   },
   "file_extension": ".py",
   "mimetype": "text/x-python",
   "name": "python",
   "nbconvert_exporter": "python",
   "pygments_lexer": "ipython3",
   "version": "3.6.8"
  }
 },
 "nbformat": 4,
 "nbformat_minor": 2
}
