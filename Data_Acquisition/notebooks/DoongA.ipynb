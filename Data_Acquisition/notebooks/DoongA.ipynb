{
 "cells": [
  {
   "cell_type": "markdown",
   "metadata": {},
   "source": [
    "### 동아 일보 데이터크롤러\n",
    "\n",
    "```\n",
    "Arguments : query_word, (period)\n",
    "\n",
    "return : title_list, category_list, body_list\n",
    "```"
   ]
  },
  {
   "cell_type": "code",
   "execution_count": 2,
   "metadata": {},
   "outputs": [],
   "source": [
    "import requests\n",
    "from bs4 import BeautifulSoup"
   ]
  },
  {
   "cell_type": "code",
   "execution_count": 194,
   "metadata": {},
   "outputs": [],
   "source": [
    "def body_extractor(link):\n",
    "    soup = BeautifulSoup(requests.get(link).content, 'html.parser')\n",
    "    \n",
    "    text = \"\"    \n",
    "    for con in soup.select_one(\".article_txt\").contents:\n",
    "        try:\n",
    "            con.text\n",
    "            continue\n",
    "        except :\n",
    "            if con == \"\\ufeff【서울=뉴시스】\":\n",
    "                continue\n",
    "            text += \" \" + con\n",
    "    return text.strip()\n",
    "\n",
    "def doonga_crawler(query, period=None):\n",
    "    \n",
    "    # data containers \n",
    "    titles = []\n",
    "    links = []\n",
    "    categories = []\n",
    "    dates = []\n",
    "    bodies = []\n",
    "    \n",
    "    i = 1 \n",
    "    nobody = 0\n",
    "    \n",
    "    while True:\n",
    "        print(\"-\" * 30)\n",
    "        print('{} page is start'.format(i//15 + 1))\n",
    "        \n",
    "        url = \"http://news.donga.com/search?p={}&query={}&check_news=1&more=1&sorting=1&search_date=1&v1=&v2=&range=1\".format(i, query)\n",
    "        res = requests.get(url)\n",
    "        soup = BeautifulSoup(res.content, 'html.parser')\n",
    "        \n",
    "        if len(soup.select('p.tit')) == 0:\n",
    "            print('***** no result! *****')\n",
    "            break\n",
    "\n",
    "        for art, cate, da in zip(soup.select(\"p.tit > a\"), soup.select(\".loc\"), soup.select(\"p.tit > span\")):\n",
    "            \n",
    "            title = art.text\n",
    "            if len(title) == 0:\n",
    "                nobody += 1\n",
    "                continue\n",
    "                \n",
    "            link = art[\"href\"]\n",
    "            if len(link) == 0:\n",
    "                nobody += 1\n",
    "                continue\n",
    "                \n",
    "            category = cate.text\n",
    "            if len(category) == 0:\n",
    "                category = 'unknown_category'\n",
    "                \n",
    "            date = da.text\n",
    "            if len(date) == 0:\n",
    "                date = \"unknown_date\"\n",
    "            \n",
    "            try:\n",
    "                body = body_extractor(link)\n",
    "                if len(body) == 0:\n",
    "                    print(\"no body\")\n",
    "                    nobody += 1\n",
    "                    continue\n",
    "                    \n",
    "            except Exception as ex:\n",
    "                print(ex)\n",
    "                nobody += 1\n",
    "                continue\n",
    "                \n",
    "            titles.append(title)\n",
    "            links.append(link)\n",
    "            categories.append(category) \n",
    "            dates.append(date)\n",
    "            bodies.append(body)\n",
    "            \n",
    "        print('{} page is done'.format(i//15 + 1))\n",
    "        i += 15\n",
    "    return [titles, links, categories, dates, bodies], nobody"
   ]
  },
  {
   "cell_type": "code",
   "execution_count": 195,
   "metadata": {
    "scrolled": true
   },
   "outputs": [
    {
     "name": "stdout",
     "output_type": "stream",
     "text": [
      "------------------------------\n",
      "1 page is start\n",
      "1 page is done\n"
     ]
    }
   ],
   "source": [
    "data_dust, nobody_dust = doonga_crawler(\"미세먼지\", period=None)"
   ]
  }
 ],
 "metadata": {
  "kernelspec": {
   "display_name": "Python 3",
   "language": "python",
   "name": "python3"
  },
  "language_info": {
   "codemirror_mode": {
    "name": "ipython",
    "version": 3
   },
   "file_extension": ".py",
   "mimetype": "text/x-python",
   "name": "python",
   "nbconvert_exporter": "python",
   "pygments_lexer": "ipython3",
   "version": "3.6.8"
  }
 },
 "nbformat": 4,
 "nbformat_minor": 2
}
