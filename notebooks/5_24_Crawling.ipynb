{
 "cells": [
  {
   "cell_type": "markdown",
   "metadata": {},
   "source": [
    "# 웹 일반 & 크롤링\n",
    "\n",
    " - 웹은 무엇인가\n",
    " - 웹은 그것이다.\n",
    " \n",
    " 1. html \n",
    " 2. css\n",
    "\n",
    "오늘은 웹 크롤링 배웁니다"
   ]
  },
  {
   "cell_type": "code",
   "execution_count": 1,
   "metadata": {},
   "outputs": [],
   "source": [
    "url = \"http://www.donga.com/\""
   ]
  },
  {
   "cell_type": "code",
   "execution_count": 2,
   "metadata": {},
   "outputs": [],
   "source": [
    "import requests"
   ]
  },
  {
   "cell_type": "code",
   "execution_count": 3,
   "metadata": {},
   "outputs": [],
   "source": [
    "response = requests.get(url)"
   ]
  },
  {
   "cell_type": "code",
   "execution_count": 4,
   "metadata": {},
   "outputs": [],
   "source": [
    "# response.content"
   ]
  },
  {
   "cell_type": "code",
   "execution_count": 5,
   "metadata": {},
   "outputs": [],
   "source": [
    "from bs4 import BeautifulSoup"
   ]
  },
  {
   "cell_type": "code",
   "execution_count": 9,
   "metadata": {},
   "outputs": [],
   "source": [
    "soup = BeautifulSoup(response.content, \"html.parser\")"
   ]
  },
  {
   "cell_type": "code",
   "execution_count": 53,
   "metadata": {
    "scrolled": true
   },
   "outputs": [
    {
     "data": {
      "text/plain": [
       "['트럼프 파상공세, 중국 얼마나 버틸 수 있을까?',\n",
       " '美, 삼성 등 한국기업에도 ‘反화웨이’ 요청…기업들 ‘당혹’',\n",
       " '이번엔 환율…美, 통화가치 절하 국가에 상계관세 부과 추진',\n",
       " '로스쿨 10년의 자화상…사시 복제판, 또 하나의 ‘SKY 캐슬’',\n",
       " '요미우리 “트럼프, 文대통령에게 日과 관계 개선 직접 요구했다”']"
      ]
     },
     "execution_count": 53,
     "metadata": {},
     "output_type": "execute_result"
    }
   ],
   "source": [
    "title_5_24 = []\n",
    "\n",
    "for txt in soup.select(\".txt_li\"):\n",
    "    title_5_24.append(txt.text)\n",
    "#     title_5_24 += \" \" + txt.text\n",
    "    \n",
    "title_5_24[:5]"
   ]
  },
  {
   "cell_type": "code",
   "execution_count": 66,
   "metadata": {},
   "outputs": [
    {
     "data": {
      "text/plain": [
       "bs4.element.Tag"
      ]
     },
     "execution_count": 66,
     "metadata": {},
     "output_type": "execute_result"
    }
   ],
   "source": [
    "type(soup.select_one(\".txt_li\"))"
   ]
  },
  {
   "cell_type": "code",
   "execution_count": 70,
   "metadata": {},
   "outputs": [
    {
     "data": {
      "text/plain": [
       "['http://news.donga.com/Main/3/all/20190524/95684068/1',\n",
       " 'http://news.donga.com/Main/3/all/20190523/95675060/1',\n",
       " 'http://news.donga.com/Main/3/all/20190524/95682902/1']"
      ]
     },
     "execution_count": 70,
     "metadata": {},
     "output_type": "execute_result"
    }
   ],
   "source": [
    "links = []\n",
    "\n",
    "for txt in soup.select(\".txt_li\"):\n",
    "    links.append(txt.select(\"a\")[0][\"href\"])\n",
    "    \n",
    "links[:3]"
   ]
  },
  {
   "cell_type": "code",
   "execution_count": 71,
   "metadata": {},
   "outputs": [
    {
     "data": {
      "text/plain": [
       "(57, 57)"
      ]
     },
     "execution_count": 71,
     "metadata": {},
     "output_type": "execute_result"
    }
   ],
   "source": [
    "len(title_5_24), len(links)"
   ]
  },
  {
   "cell_type": "code",
   "execution_count": 104,
   "metadata": {
    "code_folding": []
   },
   "outputs": [],
   "source": [
    "bodies = []\n",
    "\n",
    "for li in links:\n",
    "    res2 = requests.get(li)\n",
    "    soup2 = BeautifulSoup(res2.content, \"html.parser\")\n",
    "    bodies.append(soup2.select_one(\".article_txt\").text)"
   ]
  },
  {
   "cell_type": "code",
   "execution_count": 106,
   "metadata": {},
   "outputs": [
    {
     "data": {
      "text/plain": [
       "57"
      ]
     },
     "execution_count": 106,
     "metadata": {},
     "output_type": "execute_result"
    }
   ],
   "source": [
    "len(bodies)"
   ]
  },
  {
   "cell_type": "code",
   "execution_count": null,
   "metadata": {},
   "outputs": [],
   "source": []
  }
 ],
 "metadata": {
  "kernelspec": {
   "display_name": "Python 3",
   "language": "python",
   "name": "python3"
  },
  "language_info": {
   "codemirror_mode": {
    "name": "ipython",
    "version": 3
   },
   "file_extension": ".py",
   "mimetype": "text/x-python",
   "name": "python",
   "nbconvert_exporter": "python",
   "pygments_lexer": "ipython3",
   "version": "3.6.8"
  }
 },
 "nbformat": 4,
 "nbformat_minor": 2
}
